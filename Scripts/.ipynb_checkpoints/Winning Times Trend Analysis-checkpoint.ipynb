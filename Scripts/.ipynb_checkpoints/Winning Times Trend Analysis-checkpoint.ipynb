{
 "cells": [
  {
   "cell_type": "code",
   "execution_count": 1,
   "metadata": {
    "collapsed": true
   },
   "outputs": [],
   "source": [
    "### Looks at how winning times have trended for each\n",
    "### event, indexed to the first WCs"
   ]
  },
  {
   "cell_type": "code",
   "execution_count": 2,
   "metadata": {
    "collapsed": true
   },
   "outputs": [],
   "source": [
    "import pandas as pd\n",
    "import matplotlib.pyplot as plt\n",
    "\n",
    "# Data scraped from IAAF.com\n",
    "df = pd.read_csv('IAAF_Results.csv')"
   ]
  },
  {
   "cell_type": "code",
   "execution_count": 3,
   "metadata": {
    "collapsed": true
   },
   "outputs": [],
   "source": [
    "# Check that the dataset makes sense by comparing some stats \n",
    "# we know. We'll look at the athletes with the most appearances and\n",
    "# check that their medal counts are right."
   ]
  },
  {
   "cell_type": "code",
   "execution_count": 4,
   "metadata": {
    "collapsed": false
   },
   "outputs": [
    {
     "data": {
      "text/html": [
       "<div>\n",
       "<table border=\"1\" class=\"dataframe\">\n",
       "  <thead>\n",
       "    <tr style=\"text-align: right;\">\n",
       "      <th></th>\n",
       "      <th></th>\n",
       "      <th>championship_number</th>\n",
       "      <th>gender</th>\n",
       "      <th>country</th>\n",
       "    </tr>\n",
       "    <tr>\n",
       "      <th>athlete_first_name</th>\n",
       "      <th>athlete_last_name</th>\n",
       "      <th></th>\n",
       "      <th></th>\n",
       "      <th></th>\n",
       "    </tr>\n",
       "  </thead>\n",
       "  <tbody>\n",
       "    <tr>\n",
       "      <th>Merlene</th>\n",
       "      <th>Ottey</th>\n",
       "      <td>12</td>\n",
       "      <td>women</td>\n",
       "      <td>JAM</td>\n",
       "    </tr>\n",
       "    <tr>\n",
       "      <th>Frank</th>\n",
       "      <th>Fredericks</th>\n",
       "      <td>10</td>\n",
       "      <td>men</td>\n",
       "      <td>NAM</td>\n",
       "    </tr>\n",
       "    <tr>\n",
       "      <th>Veronica</th>\n",
       "      <th>Campbell-Brown</th>\n",
       "      <td>8</td>\n",
       "      <td>women</td>\n",
       "      <td>JAM</td>\n",
       "    </tr>\n",
       "    <tr>\n",
       "      <th>MariadeLurdes</th>\n",
       "      <th>Mutola</th>\n",
       "      <td>8</td>\n",
       "      <td>women</td>\n",
       "      <td>MOZ</td>\n",
       "    </tr>\n",
       "    <tr>\n",
       "      <th>Usain</th>\n",
       "      <th>Bolt</th>\n",
       "      <td>8</td>\n",
       "      <td>men</td>\n",
       "      <td>JAM</td>\n",
       "    </tr>\n",
       "  </tbody>\n",
       "</table>\n",
       "</div>"
      ],
      "text/plain": [
       "                                      championship_number gender country\n",
       "athlete_first_name athlete_last_name                                    \n",
       "Merlene            Ottey                               12  women     JAM\n",
       "Frank              Fredericks                          10    men     NAM\n",
       "Veronica           Campbell-Brown                       8  women     JAM\n",
       "MariadeLurdes      Mutola                               8  women     MOZ\n",
       "Usain              Bolt                                 8    men     JAM"
      ]
     },
     "execution_count": 4,
     "metadata": {},
     "output_type": "execute_result"
    }
   ],
   "source": [
    "# Select the athletes by first and last name...\n",
    "athletes_groups = df.groupby(['athlete_first_name','athlete_last_name'],\n",
    "                            as_index = True)\n",
    "\n",
    "# ... and count their number of occurances\n",
    "athletes_results = athletes_groups.agg({\n",
    "        'country': 'first',\n",
    "        'gender' : 'first',\n",
    "        'championship_number' : 'count' # Number of events occured\n",
    "    })\n",
    "\n",
    "# Select the top five athletes by occurance\n",
    "athletes_results.sort('championship_number',ascending=False).head()"
   ]
  },
  {
   "cell_type": "code",
   "execution_count": 5,
   "metadata": {
    "collapsed": true
   },
   "outputs": [],
   "source": [
    "# Uh oh. Looks like wikipedia disagrees with Merlene Ottey's 12 appearances. \n",
    "# But wikipedia would be incorrect. Check the downloaded web pages!\n",
    "# Anyway, the others match.\n",
    "# \n",
    "# Lets see how the winning times for each event have trended"
   ]
  },
  {
   "cell_type": "code",
   "execution_count": 6,
   "metadata": {
    "collapsed": false
   },
   "outputs": [
    {
     "data": {
      "text/html": [
       "<div>\n",
       "<table border=\"1\" class=\"dataframe\">\n",
       "  <thead>\n",
       "    <tr style=\"text-align: right;\">\n",
       "      <th></th>\n",
       "      <th>distance</th>\n",
       "      <th>gender</th>\n",
       "      <th>championship_number</th>\n",
       "      <th>athlete_last_name</th>\n",
       "      <th>mark_time</th>\n",
       "    </tr>\n",
       "  </thead>\n",
       "  <tbody>\n",
       "    <tr>\n",
       "      <th>0</th>\n",
       "      <td>100</td>\n",
       "      <td>men</td>\n",
       "      <td>1</td>\n",
       "      <td>Lewis</td>\n",
       "      <td>10.07</td>\n",
       "    </tr>\n",
       "    <tr>\n",
       "      <th>1</th>\n",
       "      <td>100</td>\n",
       "      <td>men</td>\n",
       "      <td>2</td>\n",
       "      <td>Lewis</td>\n",
       "      <td>9.93</td>\n",
       "    </tr>\n",
       "    <tr>\n",
       "      <th>2</th>\n",
       "      <td>100</td>\n",
       "      <td>men</td>\n",
       "      <td>3</td>\n",
       "      <td>Lewis</td>\n",
       "      <td>9.86</td>\n",
       "    </tr>\n",
       "    <tr>\n",
       "      <th>3</th>\n",
       "      <td>100</td>\n",
       "      <td>men</td>\n",
       "      <td>4</td>\n",
       "      <td>Christie</td>\n",
       "      <td>9.87</td>\n",
       "    </tr>\n",
       "    <tr>\n",
       "      <th>4</th>\n",
       "      <td>100</td>\n",
       "      <td>men</td>\n",
       "      <td>5</td>\n",
       "      <td>Bailey</td>\n",
       "      <td>9.97</td>\n",
       "    </tr>\n",
       "  </tbody>\n",
       "</table>\n",
       "</div>"
      ],
      "text/plain": [
       "   distance gender  championship_number athlete_last_name  mark_time\n",
       "0       100    men                    1             Lewis      10.07\n",
       "1       100    men                    2             Lewis       9.93\n",
       "2       100    men                    3             Lewis       9.86\n",
       "3       100    men                    4          Christie       9.87\n",
       "4       100    men                    5            Bailey       9.97"
      ]
     },
     "execution_count": 6,
     "metadata": {},
     "output_type": "execute_result"
    }
   ],
   "source": [
    "# Get all the winning times for each gender and event\n",
    "winning_times = df[df['place'] == 1]\n",
    "winning_times_groups = df.groupby(['distance','gender','championship_number'],\n",
    "                                 as_index = False)\n",
    "winning_results = winning_times_groups.agg({\n",
    "        'athlete_last_name' : 'first',\n",
    "        'mark_time' : 'first',\n",
    "    })\n",
    "winning_results.head()"
   ]
  },
  {
   "cell_type": "code",
   "execution_count": 7,
   "metadata": {
    "collapsed": false
   },
   "outputs": [],
   "source": [
    "# Get the first result of the group, to get indexed changes\n",
    "first_wins = winning_results.groupby(['distance','gender']).first()\n",
    "first_wins.reset_index(inplace = True)\n",
    "\n",
    "winning_first_times_added = winning_results.merge(\n",
    "    first_wins,\n",
    "    on=('distance','gender'),\n",
    "    copy = False\n",
    ")\n",
    "\n",
    "\n",
    "winning_fields = winning_first_times_added[[\n",
    "        'distance',\n",
    "        'gender',\n",
    "        'athlete_last_name_x',\n",
    "        'mark_time_x',\n",
    "        'mark_time_y']]\n",
    "\n",
    "winning_fields.columns = [[\n",
    "        'distance',\n",
    "        'gender',\n",
    "        'athlete_last_name',\n",
    "        'winning_time',\n",
    "        'index_time']]"
   ]
  },
  {
   "cell_type": "code",
   "execution_count": 8,
   "metadata": {
    "collapsed": false
   },
   "outputs": [
    {
     "data": {
      "text/html": [
       "<div>\n",
       "<table border=\"1\" class=\"dataframe\">\n",
       "  <thead>\n",
       "    <tr style=\"text-align: right;\">\n",
       "      <th></th>\n",
       "      <th>distance</th>\n",
       "      <th>gender</th>\n",
       "      <th>athlete_last_name</th>\n",
       "      <th>winning_time</th>\n",
       "      <th>index_time</th>\n",
       "    </tr>\n",
       "  </thead>\n",
       "  <tbody>\n",
       "    <tr>\n",
       "      <th>0</th>\n",
       "      <td>100</td>\n",
       "      <td>men</td>\n",
       "      <td>Lewis</td>\n",
       "      <td>10.07</td>\n",
       "      <td>10.07</td>\n",
       "    </tr>\n",
       "    <tr>\n",
       "      <th>1</th>\n",
       "      <td>100</td>\n",
       "      <td>men</td>\n",
       "      <td>Lewis</td>\n",
       "      <td>9.93</td>\n",
       "      <td>10.07</td>\n",
       "    </tr>\n",
       "    <tr>\n",
       "      <th>2</th>\n",
       "      <td>100</td>\n",
       "      <td>men</td>\n",
       "      <td>Lewis</td>\n",
       "      <td>9.86</td>\n",
       "      <td>10.07</td>\n",
       "    </tr>\n",
       "    <tr>\n",
       "      <th>3</th>\n",
       "      <td>100</td>\n",
       "      <td>men</td>\n",
       "      <td>Christie</td>\n",
       "      <td>9.87</td>\n",
       "      <td>10.07</td>\n",
       "    </tr>\n",
       "    <tr>\n",
       "      <th>4</th>\n",
       "      <td>100</td>\n",
       "      <td>men</td>\n",
       "      <td>Bailey</td>\n",
       "      <td>9.97</td>\n",
       "      <td>10.07</td>\n",
       "    </tr>\n",
       "  </tbody>\n",
       "</table>\n",
       "</div>"
      ],
      "text/plain": [
       "   distance gender athlete_last_name  winning_time  index_time\n",
       "0       100    men             Lewis         10.07       10.07\n",
       "1       100    men             Lewis          9.93       10.07\n",
       "2       100    men             Lewis          9.86       10.07\n",
       "3       100    men          Christie          9.87       10.07\n",
       "4       100    men            Bailey          9.97       10.07"
      ]
     },
     "execution_count": 8,
     "metadata": {},
     "output_type": "execute_result"
    }
   ],
   "source": [
    "# Forgot to add year of the event\n",
    "winning_fields.head()"
   ]
  },
  {
   "cell_type": "code",
   "execution_count": null,
   "metadata": {
    "collapsed": true
   },
   "outputs": [],
   "source": []
  }
 ],
 "metadata": {
  "kernelspec": {
   "display_name": "Python 3",
   "language": "python",
   "name": "python3"
  },
  "language_info": {
   "codemirror_mode": {
    "name": "ipython",
    "version": 3
   },
   "file_extension": ".py",
   "mimetype": "text/x-python",
   "name": "python",
   "nbconvert_exporter": "python",
   "pygments_lexer": "ipython3",
   "version": "3.4.3"
  }
 },
 "nbformat": 4,
 "nbformat_minor": 0
}
