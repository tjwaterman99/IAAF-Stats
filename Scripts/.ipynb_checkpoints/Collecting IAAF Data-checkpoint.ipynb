{
 "cells": [
  {
   "cell_type": "code",
   "execution_count": 1,
   "metadata": {
    "collapsed": false
   },
   "outputs": [
    {
     "name": "stdout",
     "output_type": "stream",
     "text": [
      "Started: 2015-08-27 16:26:46.640745\n",
      "Finished at: 2015-08-27 16:28:16.909899\n"
     ]
    }
   ],
   "source": [
    "import datetime as dt\n",
    "import os\n",
    "import requests\n",
    "from bs4 import BeautifulSoup as bs\n",
    "\n",
    "print('Started: ' + str(dt.datetime.now()))\n",
    "\n",
    "base_url = 'http://www.iaaf.org/competitions/iaaf-world-championships'\n",
    "\n",
    "championships = [\n",
    "    # '15th-iaaf-world-championships-4875',\n",
    "    '14th-iaaf-world-championships-4873',\n",
    "    '13th-iaaf-world-championships-in-athletics-4147',\n",
    "    '12th-iaaf-world-championships-in-athletics-3658',\n",
    "    '11th-iaaf-world-championships-in-athletics-3653',\n",
    "    '10th-iaaf-world-championships-in-athletics-3365',\n",
    "    '9th-iaaf-world-championships-in-athletics-2962',\n",
    "    '8th-iaaf-world-championships-2639',\n",
    "    '7th-iaaf-world-championships-in-athletics-1822',\n",
    "    '6th-iaaf-world-championships-in-athletics-1274',\n",
    "    '5th-iaaf-world-championships-in-athletics-441',\n",
    "    '4th-iaaf-world-championships-in-athletics-1',\n",
    "    '3rd-iaaf-world-championships-in-athletics-5',\n",
    "    '2nd-iaaf-world-championships-in-athletics-4',\n",
    "    '1st-iaaf-world-championships-in-athletics-3',\n",
    "]\n",
    "\n",
    "genders = [\n",
    "    'men',\n",
    "    'women'\n",
    "]\n",
    "\n",
    "events = [\n",
    "    '100',\n",
    "    '200',\n",
    "    '400',\n",
    "    '800',\n",
    "    '1500',\n",
    "    '3000',\n",
    "    '5000',\n",
    "    '10000'\n",
    "]\n",
    "\n",
    "generic_url = '/{0}/results/{1}/{2}-metres/final/result'\n",
    "\n",
    "pages = [base_url + generic_url.format(c,g,e) \n",
    "         for c in championships \\\n",
    "         for g in genders \\\n",
    "         for e in events]\n",
    "\n",
    "collection_folder_name = 'RawEventPage'\n",
    "\n",
    "if __name__ == \"__main__\":\n",
    "    try:\n",
    "        os.mkdir(collection_folder_name)\n",
    "    except:\n",
    "        raise 'xx'\n",
    "\n",
    "    log_file = open('LogResults.txt','w')\n",
    "    not_found_pages = []\n",
    "    found_pages = []\n",
    "\n",
    "    for p in pages:\n",
    "        page = requests.get(p)\n",
    "        page_soup = bs(page.text)\n",
    "\n",
    "        if \"Page Not Found\" in page_soup.title.contents[0]:\n",
    "            # Not all events were ran every year - the women ran 3K until the 1993\n",
    "            #  before switching to the 5k\n",
    "            not_found_pages.append(p)\n",
    "            log_file.write('Didn\\'t find: '+p + \"\\n\")\n",
    "            pass\n",
    "\n",
    "        else:\n",
    "            found_pages.append(p)\n",
    "            file_name = page_soup.find_all('meta')[3]['content'] + \".html\"\n",
    "            file_path = os.path.join(\n",
    "                collection_folder_name, \n",
    "                file_name\n",
    "                )\n",
    "\n",
    "            page_file = open(file_path,'w')\n",
    "            page_file.write(str(page_soup))\n",
    "            log_file.write('Did find: '+p + \"\\n\")\n",
    "\n",
    "            \n",
    "            \n",
    "print('Finished at: ' + str(dt.datetime.now()))            "
   ]
  },
  {
   "cell_type": "code",
   "execution_count": null,
   "metadata": {
    "collapsed": true
   },
   "outputs": [],
   "source": []
  }
 ],
 "metadata": {
  "kernelspec": {
   "display_name": "Python 3",
   "language": "python",
   "name": "python3"
  },
  "language_info": {
   "codemirror_mode": {
    "name": "ipython",
    "version": 3
   },
   "file_extension": ".py",
   "mimetype": "text/x-python",
   "name": "python",
   "nbconvert_exporter": "python",
   "pygments_lexer": "ipython3",
   "version": "3.4.3"
  }
 },
 "nbformat": 4,
 "nbformat_minor": 0
}
